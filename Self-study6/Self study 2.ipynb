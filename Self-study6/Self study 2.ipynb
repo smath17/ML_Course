{
 "cells": [
  {
   "cell_type": "markdown",
   "metadata": {},
   "source": [
    "In this self study you should experiment with convolutional neural networks using PyTorch. In the last self study session we only made limited use of PyTorch (only using it for calculating gradients), but in this self study we will take advantage of much more of its functionality.\n",
    "\n",
    "In particular, we will work with the _torch.nn_ module provided by PyTorch. A short introduction to this module and how to define neural networks in PyTorch can be found at\n",
    "\n",
    "* https://pytorch.org/tutorials/beginner/blitz/neural_networks_tutorial.html#sphx-glr-beginner-blitz-neural-networks-tutorial-py\n",
    "\n",
    "* https://pytorch.org/tutorials/beginner/nn_tutorial.html\n",
    "\n",
    "For this self study you may either go through these tutorials before working on the notebook or consult them when needed as you move forward in the notebook. The former tutorial is part of a general tutorial package to PyTorch, which can be found at (this also includes a nice introduction to tensors in PyTorch)\n",
    "\n",
    "* https://pytorch.org/tutorials/beginner/deep_learning_60min_blitz.html"
   ]
  },
  {
   "cell_type": "markdown",
   "metadata": {},
   "source": [
    "First we import relevant modules:"
   ]
  },
  {
   "cell_type": "code",
   "execution_count": 172,
   "metadata": {},
   "outputs": [],
   "source": [
    "import torch\n",
    "import torch.nn as nn\n",
    "import torch.nn.functional as F\n",
    "from torchvision import datasets, transforms\n",
    "from torch.utils.data.sampler import SubsetRandomSampler\n",
    "from matplotlib import pyplot\n",
    "import numpy as np"
   ]
  },
  {
   "cell_type": "markdown",
   "metadata": {},
   "source": [
    "## Loading the data"
   ]
  },
  {
   "cell_type": "markdown",
   "metadata": {},
   "source": [
    "As last time we will be working with the MNIST data set: The MNIST database consists of grey scale images of handwritten digits. Each image is of size $28\\times 28$; see figure below for an illustration. The data set is divided into a training set consisting of $60000$ images and a test set with $10000$ images; in both\n",
    "data sets the images are labeled with the correct digits. If interested you can find more information about the MNIST data set at http://yann.lecun.com/exdb/mnist/, including accuracy results for various machine learning methods.\n",
    "\n",
    "![MNIST DATA](MNIST-dataset.png)"
   ]
  },
  {
   "cell_type": "markdown",
   "metadata": {},
   "source": [
    "For this self study, we will be a bit more careful with our data. Specifically, we will divide the data into a training, validation, and test, and use the training and validation set for model learning (in the previous self study we did not have a validation set). \n",
    "\n",
    "The data set is created by setting aside a randomly chosen subset of the data, where the splitting point is found using the help function *split_indicies* below."
   ]
  },
  {
   "cell_type": "code",
   "execution_count": 173,
   "metadata": {},
   "outputs": [
    {
     "name": "stdout",
     "output_type": "stream",
     "text": [
      "Number of training examples: 48000\n",
      "Number of validation examples: 12000\n"
     ]
    }
   ],
   "source": [
    "def split_indicies(n, val_pct):\n",
    "    # Size of validation set\n",
    "    n_val = int(n*val_pct)\n",
    "    # Random permutation\n",
    "    idxs = np.random.permutation(n)\n",
    "    # Return first indexes for the validation set\n",
    "    return idxs[n_val:], idxs[:n_val]\n",
    "\n",
    "# Load the data\n",
    "train_dataset = datasets.MNIST('data/data', train=True, download=False,\n",
    "                   transform=transforms.Compose([\n",
    "                       transforms.ToTensor(),\n",
    "                       transforms.Normalize((0.1307,), (0.3081,))\n",
    "                   ]))\n",
    "\n",
    "# Get the indicies for the training data and test data (the validation set will consists of 20% of the data)\n",
    "train_idxs, val_idxs = split_indicies(len(train_dataset), 0.2)\n",
    "\n",
    "# Define samplers (used by Dataloader) to the two sets of indicies\n",
    "train_sampler = SubsetRandomSampler(train_idxs)\n",
    "val_sampler = SubsetRandomSampler(val_idxs)\n",
    "\n",
    "# Specify data loaders for our training and test set (same functionality as in the previous self study)\n",
    "train_loader = torch.utils.data.DataLoader(train_dataset, batch_size=81, sampler=train_sampler)\n",
    "val_loader = torch.utils.data.DataLoader(train_dataset, batch_size=81, sampler=val_sampler)\n",
    "\n",
    "print(f\"Number of training examples: {len(train_idxs)}\")\n",
    "print(f\"Number of validation examples: {len(val_idxs)}\")"
   ]
  },
  {
   "cell_type": "markdown",
   "metadata": {},
   "source": [
    "The test set is loaded in the usual fashion"
   ]
  },
  {
   "cell_type": "code",
   "execution_count": 174,
   "metadata": {},
   "outputs": [],
   "source": [
    "test_loader = torch.utils.data.DataLoader(\n",
    "        datasets.MNIST('data/data', train=False, transform=transforms.Compose([\n",
    "            transforms.ToTensor(),\n",
    "            transforms.Normalize((0.1307,), (0.3081,))\n",
    "        ])),\n",
    "        batch_size=81, shuffle=True)"
   ]
  },
  {
   "cell_type": "markdown",
   "metadata": {},
   "source": [
    "## Specifying the model\n",
    "\n",
    "When using the _torch.nn_ for specifying our model we subclass the _nn.Module_. The model thus holds all the parameters of the model (see the _init_ function) as well as a specification of the forward step. We don't have to keep track of the backward pass, as PyTorch handles this for us."
   ]
  },
  {
   "cell_type": "code",
   "execution_count": 175,
   "metadata": {},
   "outputs": [],
   "source": [
    "kernel_size = 5\n",
    "pad_size = 1\n",
    "# After convolution the size is smaller\n",
    "# the matrix loses columns to the right and rows at the bottom equal to the kernel - 1\n",
    "size_after_conv = 28 - (kernel_size - 1) + pad_size*2\n",
    "\n",
    "class MNIST_CNN(nn.Module):\n",
    "\n",
    "    def __init__(self):\n",
    "        super().__init__()\n",
    "\n",
    "        # Define a convolution operator with 1 input channel, 15 output channels and a kernel size of 5x5\n",
    "        self.conv1 = nn.Conv2d(1, 15, (kernel_size, kernel_size), padding=pad_size)\n",
    "        # Since we are not doing padding (see Lecture 2, Slide 38) the width of the following layer is reduced; for\n",
    "        # each channel the resulting dimension is 24x24. We feed the resulting representation through a linear \n",
    "        # layer, giving 10 values as output - one for each digit.\n",
    "        self.fc = nn.Linear(15 * size_after_conv * size_after_conv, 10)\n",
    "        self.out = None\n",
    "\n",
    "    def forward(self, xb):\n",
    "\n",
    "        # Reshape the input tensor; '-1' indicates that PyTorch will fill-in this \n",
    "        # dimension, whereas the '1' indicates that we only have one color channel. \n",
    "        xb = xb.view(-1, 1, 28, 28)\n",
    "        # Apply convolution and pass the result through a ReLU function\n",
    "        xb = F.relu(self.conv1(xb))\n",
    "        # Reshape the representation\n",
    "        xb = xb.view(-1, 15 * size_after_conv * size_after_conv)\n",
    "        # Apply the linear layer\n",
    "        xb = self.fc(xb)\n",
    "        # and set the result as the output. Note that we don't take a softmax as this is handled internally in the \n",
    "        # loss function defined below.\n",
    "        self.out = xb\n",
    "\n",
    "        return xb"
   ]
  },
  {
   "cell_type": "markdown",
   "metadata": {},
   "source": [
    "## Learning and evaluating the model\n",
    "\n",
    "For learning the model, we will use the following function which performs one iteration over the training data. The function also takes an _epoch_ argument, but this is only used for reporting on the learning progress"
   ]
  },
  {
   "cell_type": "code",
   "execution_count": 176,
   "metadata": {},
   "outputs": [],
   "source": [
    "def train(model, train_loader, loss_fn, epoch):\n",
    "    # Tell PyTorch that this function is part of the training\n",
    "    model.train()\n",
    "\n",
    "    # As optimizer we use stochastic gradient descent as defined by PyTorch. PyTorch also includes a variety \n",
    "    # of other optimizers \n",
    "    learning_rate = 0.01\n",
    "    opt = torch.optim.SGD(model.parameters(), lr=learning_rate)\n",
    "\n",
    "    # Iterate over the training set, one batch at the time, as in the previous self sudy\n",
    "    for batch_idx, (data, target) in enumerate(train_loader):\n",
    "        # Get the prediction\n",
    "        y_pred = model(data)\n",
    "        \n",
    "        # Remember to zero the gradients so that they don't accumulate\n",
    "        opt.zero_grad()\n",
    "\n",
    "        # Calculate the loss and and the gradients  \n",
    "        loss = loss_fn(y_pred, target)\n",
    "        loss.backward()\n",
    "\n",
    "        # Optimize the parameters by taking one 'step' with the optimizer\n",
    "        opt.step()\n",
    "\n",
    "        # For every 10th batch we output a bit of info\n",
    "        if batch_idx % 10 == 0:\n",
    "            print('Train Epoch: {} [{}/{} ({:.0f}%)]\\tLoss: {:.6f}'.format(\n",
    "                epoch, batch_idx * len(data), len(train_loader.sampler),\n",
    "                       100. * batch_idx * len(data) / len(train_loader.sampler), loss.item()))"
   ]
  },
  {
   "cell_type": "markdown",
   "metadata": {},
   "source": [
    "In the end, we also want to validate our model. To do this we define the function below, which takes a data_loader (either the validation or test set) and reports the model's accuracy and loss on that data set."
   ]
  },
  {
   "cell_type": "code",
   "execution_count": 177,
   "metadata": {},
   "outputs": [],
   "source": [
    "def test_model(model, data_loader, loss_fn):\n",
    "    # Tell PyTorch that we are performing evaluation\n",
    "    model.eval()\n",
    "    \n",
    "    test_loss = 0\n",
    "    correct = 0\n",
    "    with torch.no_grad():\n",
    "        for data, target in data_loader:\n",
    "            output = model(data)\n",
    "            test_loss += loss_fn(output, target).item()  # sum up batch loss\n",
    "            pred = output.argmax(dim=1, keepdim=True)  # get the index of the max log-probability\n",
    "            correct += pred.eq(target.view_as(pred)).sum().item()\n",
    "\n",
    "    test_loss /= len(data_loader.dataset)\n",
    "\n",
    "    print('\\nTest/validation set: Average loss: {:.4f}, Accuracy: {}/{} ({:.0f}%)\\n'.format(\n",
    "        test_loss, correct, len(data_loader.sampler),\n",
    "        100. * correct / len(data_loader.sampler)))"
   ]
  },
  {
   "cell_type": "markdown",
   "metadata": {},
   "source": [
    "## A couple of helper functions\n",
    "\n",
    "Learning a deep neural network can be time consuming, and it might therefore be nice to be able to save and load previously learned models (see also https://pytorch.org/tutorials/beginner/saving_loading_models.html)."
   ]
  },
  {
   "cell_type": "code",
   "execution_count": 178,
   "metadata": {},
   "outputs": [],
   "source": [
    "def save_model(file_name, model):\n",
    "    torch.save(model, file_name)\n",
    "\n",
    "def load_model(file_name):\n",
    "    model = torch.load(file_name)\n",
    "    model.eval()\n",
    "    return model"
   ]
  },
  {
   "cell_type": "markdown",
   "metadata": {},
   "source": [
    "## Wrapping things up\n",
    "\n",
    "Finally, we will do the actual learning of the model."
   ]
  },
  {
   "cell_type": "code",
   "execution_count": 179,
   "metadata": {},
   "outputs": [],
   "source": [
    "# The number of passes that will be made over the training set\n",
    "num_epochs = 2\n",
    "# torch.nn defines several useful loss-functions, which we will take advantage of here (see Lecture 1, Slide 11, Log-loss).\n",
    "loss_fn = nn.CrossEntropyLoss()"
   ]
  },
  {
   "cell_type": "code",
   "execution_count": 180,
   "metadata": {},
   "outputs": [
    {
     "name": "stdout",
     "output_type": "stream",
     "text": [
      "Model structure:\n",
      "MNIST_CNN(\n",
      "  (conv1): Conv2d(1, 15, kernel_size=(5, 5), stride=(1, 1), padding=(1, 1))\n",
      "  (fc): Linear(in_features=10140, out_features=10, bias=True)\n",
      ")\n"
     ]
    }
   ],
   "source": [
    "# Instantiate the model class\n",
    "model = MNIST_CNN()\n",
    "# and get some information about the structure\n",
    "print('Model structure:')\n",
    "print(model)"
   ]
  },
  {
   "cell_type": "markdown",
   "metadata": {},
   "source": [
    "### Iterate over the data set\n",
    "\n",
    "We iterate over the data set for *num_epochs* number of iterations. At each iteration we also calculate the loss/accuracy on the validation set."
   ]
  },
  {
   "cell_type": "code",
   "execution_count": 181,
   "metadata": {},
   "outputs": [
    {
     "name": "stdout",
     "output_type": "stream",
     "text": [
      "Train Epoch: 0 [0/48000 (0%)]\tLoss: 2.360620\n",
      "Train Epoch: 0 [810/48000 (2%)]\tLoss: 1.249003\n",
      "Train Epoch: 0 [1620/48000 (3%)]\tLoss: 0.877777\n",
      "Train Epoch: 0 [2430/48000 (5%)]\tLoss: 0.738920\n",
      "Train Epoch: 0 [3240/48000 (7%)]\tLoss: 0.634370\n",
      "Train Epoch: 0 [4050/48000 (8%)]\tLoss: 0.591474\n",
      "Train Epoch: 0 [4860/48000 (10%)]\tLoss: 0.602175\n",
      "Train Epoch: 0 [5670/48000 (12%)]\tLoss: 0.512926\n",
      "Train Epoch: 0 [6480/48000 (14%)]\tLoss: 0.389776\n",
      "Train Epoch: 0 [7290/48000 (15%)]\tLoss: 0.401827\n",
      "Train Epoch: 0 [8100/48000 (17%)]\tLoss: 0.534394\n",
      "Train Epoch: 0 [8910/48000 (19%)]\tLoss: 0.373484\n",
      "Train Epoch: 0 [9720/48000 (20%)]\tLoss: 0.293712\n",
      "Train Epoch: 0 [10530/48000 (22%)]\tLoss: 0.565492\n",
      "Train Epoch: 0 [11340/48000 (24%)]\tLoss: 0.286490\n",
      "Train Epoch: 0 [12150/48000 (25%)]\tLoss: 0.422194\n",
      "Train Epoch: 0 [12960/48000 (27%)]\tLoss: 0.352538\n",
      "Train Epoch: 0 [13770/48000 (29%)]\tLoss: 0.528306\n",
      "Train Epoch: 0 [14580/48000 (30%)]\tLoss: 0.386434\n",
      "Train Epoch: 0 [15390/48000 (32%)]\tLoss: 0.478262\n",
      "Train Epoch: 0 [16200/48000 (34%)]\tLoss: 0.330659\n",
      "Train Epoch: 0 [17010/48000 (35%)]\tLoss: 0.266030\n",
      "Train Epoch: 0 [17820/48000 (37%)]\tLoss: 0.337657\n",
      "Train Epoch: 0 [18630/48000 (39%)]\tLoss: 0.239559\n",
      "Train Epoch: 0 [19440/48000 (40%)]\tLoss: 0.201588\n",
      "Train Epoch: 0 [20250/48000 (42%)]\tLoss: 0.491841\n",
      "Train Epoch: 0 [21060/48000 (44%)]\tLoss: 0.373581\n",
      "Train Epoch: 0 [21870/48000 (46%)]\tLoss: 0.427149\n",
      "Train Epoch: 0 [22680/48000 (47%)]\tLoss: 0.262083\n",
      "Train Epoch: 0 [23490/48000 (49%)]\tLoss: 0.261004\n",
      "Train Epoch: 0 [24300/48000 (51%)]\tLoss: 0.278359\n",
      "Train Epoch: 0 [25110/48000 (52%)]\tLoss: 0.186473\n",
      "Train Epoch: 0 [25920/48000 (54%)]\tLoss: 0.292465\n",
      "Train Epoch: 0 [26730/48000 (56%)]\tLoss: 0.278956\n",
      "Train Epoch: 0 [27540/48000 (57%)]\tLoss: 0.207864\n",
      "Train Epoch: 0 [28350/48000 (59%)]\tLoss: 0.394979\n",
      "Train Epoch: 0 [29160/48000 (61%)]\tLoss: 0.202058\n",
      "Train Epoch: 0 [29970/48000 (62%)]\tLoss: 0.217207\n",
      "Train Epoch: 0 [30780/48000 (64%)]\tLoss: 0.406225\n",
      "Train Epoch: 0 [31590/48000 (66%)]\tLoss: 0.197223\n",
      "Train Epoch: 0 [32400/48000 (68%)]\tLoss: 0.278582\n",
      "Train Epoch: 0 [33210/48000 (69%)]\tLoss: 0.358199\n",
      "Train Epoch: 0 [34020/48000 (71%)]\tLoss: 0.240981\n",
      "Train Epoch: 0 [34830/48000 (73%)]\tLoss: 0.466779\n",
      "Train Epoch: 0 [35640/48000 (74%)]\tLoss: 0.304672\n",
      "Train Epoch: 0 [36450/48000 (76%)]\tLoss: 0.651094\n",
      "Train Epoch: 0 [37260/48000 (78%)]\tLoss: 0.278947\n",
      "Train Epoch: 0 [38070/48000 (79%)]\tLoss: 0.214417\n",
      "Train Epoch: 0 [38880/48000 (81%)]\tLoss: 0.508674\n",
      "Train Epoch: 0 [39690/48000 (83%)]\tLoss: 0.222655\n",
      "Train Epoch: 0 [40500/48000 (84%)]\tLoss: 0.168884\n",
      "Train Epoch: 0 [41310/48000 (86%)]\tLoss: 0.161271\n",
      "Train Epoch: 0 [42120/48000 (88%)]\tLoss: 0.187727\n",
      "Train Epoch: 0 [42930/48000 (89%)]\tLoss: 0.207069\n",
      "Train Epoch: 0 [43740/48000 (91%)]\tLoss: 0.169590\n",
      "Train Epoch: 0 [44550/48000 (93%)]\tLoss: 0.315968\n",
      "Train Epoch: 0 [45360/48000 (94%)]\tLoss: 0.097458\n",
      "Train Epoch: 0 [46170/48000 (96%)]\tLoss: 0.303979\n",
      "Train Epoch: 0 [46980/48000 (98%)]\tLoss: 0.284414\n",
      "Train Epoch: 0 [47790/48000 (100%)]\tLoss: 0.412246\n",
      "\n",
      "Test/validation set: Average loss: 0.0006, Accuracy: 11192/12000 (93%)\n",
      "\n",
      "Train Epoch: 1 [0/48000 (0%)]\tLoss: 0.240645\n",
      "Train Epoch: 1 [810/48000 (2%)]\tLoss: 0.410110\n",
      "Train Epoch: 1 [1620/48000 (3%)]\tLoss: 0.096999\n",
      "Train Epoch: 1 [2430/48000 (5%)]\tLoss: 0.132174\n",
      "Train Epoch: 1 [3240/48000 (7%)]\tLoss: 0.123955\n",
      "Train Epoch: 1 [4050/48000 (8%)]\tLoss: 0.204634\n",
      "Train Epoch: 1 [4860/48000 (10%)]\tLoss: 0.353039\n",
      "Train Epoch: 1 [5670/48000 (12%)]\tLoss: 0.262734\n",
      "Train Epoch: 1 [6480/48000 (14%)]\tLoss: 0.138077\n",
      "Train Epoch: 1 [7290/48000 (15%)]\tLoss: 0.284996\n",
      "Train Epoch: 1 [8100/48000 (17%)]\tLoss: 0.284794\n",
      "Train Epoch: 1 [8910/48000 (19%)]\tLoss: 0.112992\n",
      "Train Epoch: 1 [9720/48000 (20%)]\tLoss: 0.222379\n",
      "Train Epoch: 1 [10530/48000 (22%)]\tLoss: 0.079109\n",
      "Train Epoch: 1 [11340/48000 (24%)]\tLoss: 0.129294\n",
      "Train Epoch: 1 [12150/48000 (25%)]\tLoss: 0.255067\n",
      "Train Epoch: 1 [12960/48000 (27%)]\tLoss: 0.125434\n",
      "Train Epoch: 1 [13770/48000 (29%)]\tLoss: 0.194422\n",
      "Train Epoch: 1 [14580/48000 (30%)]\tLoss: 0.140535\n",
      "Train Epoch: 1 [15390/48000 (32%)]\tLoss: 0.199806\n",
      "Train Epoch: 1 [16200/48000 (34%)]\tLoss: 0.225075\n",
      "Train Epoch: 1 [17010/48000 (35%)]\tLoss: 0.247196\n",
      "Train Epoch: 1 [17820/48000 (37%)]\tLoss: 0.154114\n",
      "Train Epoch: 1 [18630/48000 (39%)]\tLoss: 0.226633\n",
      "Train Epoch: 1 [19440/48000 (40%)]\tLoss: 0.159646\n",
      "Train Epoch: 1 [20250/48000 (42%)]\tLoss: 0.136887\n",
      "Train Epoch: 1 [21060/48000 (44%)]\tLoss: 0.207918\n",
      "Train Epoch: 1 [21870/48000 (46%)]\tLoss: 0.165281\n",
      "Train Epoch: 1 [22680/48000 (47%)]\tLoss: 0.164555\n",
      "Train Epoch: 1 [23490/48000 (49%)]\tLoss: 0.079483\n",
      "Train Epoch: 1 [24300/48000 (51%)]\tLoss: 0.122151\n",
      "Train Epoch: 1 [25110/48000 (52%)]\tLoss: 0.150812\n",
      "Train Epoch: 1 [25920/48000 (54%)]\tLoss: 0.111589\n",
      "Train Epoch: 1 [26730/48000 (56%)]\tLoss: 0.141427\n",
      "Train Epoch: 1 [27540/48000 (57%)]\tLoss: 0.187652\n",
      "Train Epoch: 1 [28350/48000 (59%)]\tLoss: 0.160730\n",
      "Train Epoch: 1 [29160/48000 (61%)]\tLoss: 0.185211\n",
      "Train Epoch: 1 [29970/48000 (62%)]\tLoss: 0.173296\n",
      "Train Epoch: 1 [30780/48000 (64%)]\tLoss: 0.185338\n",
      "Train Epoch: 1 [31590/48000 (66%)]\tLoss: 0.163810\n",
      "Train Epoch: 1 [32400/48000 (68%)]\tLoss: 0.144740\n",
      "Train Epoch: 1 [33210/48000 (69%)]\tLoss: 0.277427\n",
      "Train Epoch: 1 [34020/48000 (71%)]\tLoss: 0.273446\n",
      "Train Epoch: 1 [34830/48000 (73%)]\tLoss: 0.156262\n",
      "Train Epoch: 1 [35640/48000 (74%)]\tLoss: 0.298293\n",
      "Train Epoch: 1 [36450/48000 (76%)]\tLoss: 0.353628\n",
      "Train Epoch: 1 [37260/48000 (78%)]\tLoss: 0.158588\n",
      "Train Epoch: 1 [38070/48000 (79%)]\tLoss: 0.223129\n",
      "Train Epoch: 1 [38880/48000 (81%)]\tLoss: 0.211977\n",
      "Train Epoch: 1 [39690/48000 (83%)]\tLoss: 0.170225\n",
      "Train Epoch: 1 [40500/48000 (84%)]\tLoss: 0.166058\n",
      "Train Epoch: 1 [41310/48000 (86%)]\tLoss: 0.086377\n",
      "Train Epoch: 1 [42120/48000 (88%)]\tLoss: 0.127190\n",
      "Train Epoch: 1 [42930/48000 (89%)]\tLoss: 0.143401\n",
      "Train Epoch: 1 [43740/48000 (91%)]\tLoss: 0.166133\n",
      "Train Epoch: 1 [44550/48000 (93%)]\tLoss: 0.208410\n",
      "Train Epoch: 1 [45360/48000 (94%)]\tLoss: 0.123285\n",
      "Train Epoch: 1 [46170/48000 (96%)]\tLoss: 0.253374\n",
      "Train Epoch: 1 [46980/48000 (98%)]\tLoss: 0.128395\n",
      "Train Epoch: 1 [47790/48000 (100%)]\tLoss: 0.258278\n",
      "\n",
      "Test/validation set: Average loss: 0.0004, Accuracy: 11465/12000 (96%)\n",
      "\n"
     ]
    }
   ],
   "source": [
    "for i in range(num_epochs):\n",
    "    train(model, train_loader, loss_fn, i)\n",
    "    # Evaluate the model on the test set\n",
    "    test_model(model, val_loader, loss_fn)"
   ]
  },
  {
   "cell_type": "markdown",
   "metadata": {},
   "source": [
    "After learning we evaluate the model on the _test set_ and save the resulting structure."
   ]
  },
  {
   "cell_type": "code",
   "execution_count": 182,
   "metadata": {},
   "outputs": [],
   "source": [
    "# Evaluate the model on the test set\n",
    "#test_model(model, test_loader, loss_fn)\n",
    "# Save the model\n",
    "#save_model('conv.pt', model)"
   ]
  },
  {
   "cell_type": "markdown",
   "metadata": {},
   "source": [
    "## Exercises\n",
    "\n",
    "1. Familiarize yourself with the code above and consult the PyTorch documentation when needed.\n",
    "2. Experiment with different NN architectures (also varying the convolutional parameters: size, stride, padding, etc) and observe the effect wrt. the loss/accuracy on the training and validation dataset (training, validation). Note that when adding new layers (including dropout [Lecture 2, Slide 13], pooling, etc.) you need to make sure that the dimensionality of the layers match up. **IMPORTANT:** ignore the test set at this stage (i.e., comment out the relevant lines above) so that the results for the test set do not influence your model choice.\n",
    "3. In the model above we use a simple gradient descent learning scheme. Try other types of optimizers (see https://pytorch.org/docs/stable/optim.html) and analyze the effect.\n",
    "4. Lastly, save your best model and results. At the next lecture we will then see who got the best results :-) Note that for this to be meaningful it is important that you have not relied on the test set while doing model learning/selection.\n",
    "5. If you feel adventurous, try investigating some of the other datasets that come prepacakged with PyTorch (see https://pytorch.org/vision/0.8/datasets.html). For instnce, for FashionMNIST you only need to change the dataloader from datasets.MNIST to datasets.FashionMNIST."
   ]
  },
  {
   "cell_type": "markdown",
   "source": [
    "## 2.\n",
    "Larger kernel seems to give better accuracy\n",
    "\n",
    "__4x4 kernel:__\n",
    "- Train acc: 91%\n",
    "- Val acc: 94%\n",
    "\n",
    "__12x12 kernel:__\n",
    "- Train acc: 95%\n",
    "- Val acc: 96%\n",
    "- Changing padding=2 did nothing\n",
    "\n",
    "__5x5 Kernel:__\n",
    "- Padding = 3\n",
    "- Train acc: 94%\n",
    "- Val acc: 95\n",
    "- Padding = 1\n",
    "- Train acc: 93%\n",
    "- Val acc: 96%\n",
    "\n",
    "__5x5 Kernel:__"
   ],
   "metadata": {
    "collapsed": false
   }
  }
 ],
 "metadata": {
  "kernelspec": {
   "name": "pycharm-8d20ec8e",
   "language": "python",
   "display_name": "PyCharm (ML_Course)"
  },
  "language_info": {
   "codemirror_mode": {
    "name": "ipython",
    "version": 3
   },
   "file_extension": ".py",
   "mimetype": "text/x-python",
   "name": "python",
   "nbconvert_exporter": "python",
   "pygments_lexer": "ipython3",
   "version": "3.7.7"
  }
 },
 "nbformat": 4,
 "nbformat_minor": 2
}